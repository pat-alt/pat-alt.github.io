{
  "cells": [
    {
      "cell_type": "raw",
      "metadata": {},
      "source": [
        "---\n",
        "title: How to Conformalize a Deep Image Classifier\n",
        "subtitle: Conformal Prediction in Julia --- Part 2\n",
        "date: '2022-12-05'\n",
        "categories:\n",
        "  - conformal prediction\n",
        "  - uncertainty\n",
        "  - Julia\n",
        "description: 'A guide demonstrating how to use [`ConformalPrediction.jl`](https://github.com/pat-alt/ConformalPrediction.jl) to conformalize a deep image classifier in a few lines of code.'\n",
        "image: www/intro.gif\n",
        "draft: false\n",
        "---"
      ],
      "id": "46aa9bc9"
    },
    {
      "cell_type": "code",
      "metadata": {},
      "source": [
        "#| echo: false\n",
        "\n",
        "using Pkg; Pkg.activate(\"blog/posts/conformal-image-classifier/\")\n",
        "using Plots\n",
        "using Random\n",
        "Random.seed!(2022)\n",
        "www_path = \"blog/posts/conformal-image-classifier/www\""
      ],
      "id": "759326b9",
      "execution_count": null,
      "outputs": []
    },
    {
      "cell_type": "markdown",
      "metadata": {},
      "source": [
        "<div class=\"intro-gif\">\n",
        "  <figure>\n",
        "    <img src=\"www/intro.gif\">\n",
        "    <figcaption>Conformalized prediction sets for a<br>simple Deep Image Classifier.</figcaption>\n",
        "  </figure>\n",
        "</div>\n",
        "\n",
        "Deep Learning is popular and --- for some tasks like image classification --- remarkably powerful. But it is also well-known that Deep Neural Networks (DNN) can be unstable [@goodfellow2014explaining] and poorly calibrated. Conformal Prediction can be used to mitigate these pitfalls. \n",
        "\n",
        "In the [first part](../conformal-prediction/index.qmd) of this series of posts on Conformal Prediction, we looked at the basic underlying methodology and how CP can be implemented in Julia using [`ConformalPrediction.jl`](https://github.com/pat-alt/ConformalPrediction.jl). This second part of the series is a more goal-oriented how-to guide: it demonstrates how you can conformalize a deep learning image classifier built in `Flux.jl` in just a few lines of code. \n",
        "\n",
        "Since this is meant to be more of a hands-on article, we will avoid diving too deeply into methodological concepts. If you need more colour on this, be sure to check out the [first article](../conformal-prediction/index.qmd) on this topic and also @angelopoulos2021gentle. For a more formal treatment of Conformal Prediction see also @angelopoulos2022uncertainty.\n",
        "\n",
        "## 🎯 The Task at Hand \n",
        "\n",
        "The task at hand is to predict the labels of handwritten images of digits using the famous MNIST dataset [@lecun1998mnist]. Importing this popular machine learning dataset in Julia is made remarkably easy through `MLDatasets.jl`:\n"
      ],
      "id": "a44f4aad"
    },
    {
      "cell_type": "code",
      "metadata": {},
      "source": [
        "using MLDatasets\n",
        "N = 1000\n",
        "Xraw, yraw = MNIST(split=:train)[:]\n",
        "Xraw = Xraw[:,:,1:N]\n",
        "yraw = yraw[1:N]"
      ],
      "id": "c2e2adaf",
      "execution_count": null,
      "outputs": []
    },
    {
      "cell_type": "markdown",
      "metadata": {},
      "source": [
        "@fig-samples below shows a few random samples from the training data:\n"
      ],
      "id": "534f2846"
    },
    {
      "cell_type": "code",
      "metadata": {},
      "source": [
        "#| output: true\n",
        "#| label: fig-samples\n",
        "#| fig-cap: Random samples from the MNIST dataset.\n",
        "\n",
        "using MLJ\n",
        "using Images\n",
        "X = map(x -> convert2image(MNIST, x), eachslice(Xraw, dims=3))\n",
        "y = coerce(yraw, Multiclass)\n",
        "\n",
        "n_samples = 10\n",
        "mosaic(rand(X, n_samples)..., ncol=n_samples)"
      ],
      "id": "fig-samples",
      "execution_count": null,
      "outputs": []
    },
    {
      "cell_type": "markdown",
      "metadata": {},
      "source": [
        "## 🚧 Building the Network\n",
        "\n",
        "To model the mapping from image inputs to labels will rely on a simple Multi-Layer Perceptron (MLP). A great Julia library for Deep Learning is `Flux.jl`. But wait ... doesn't `ConformalPrediction.jl` work with models trained in `MLJ.jl`? That's right, but fortunately there exists a `Flux.jl` interface to `MLJ.jl`, namely `MLJFlux.jl`. The interface is still in its early stages, but already very powerful and easily accessible for anyone (like myself) who is used to building Neural Networks in `Flux.jl`. \n",
        "\n",
        "In `Flux.jl`, you could build an MLP for this task as follows,\n"
      ],
      "id": "a4d8430d"
    },
    {
      "cell_type": "code",
      "metadata": {},
      "source": [
        "using Flux\n",
        "\n",
        "mlp = Chain(\n",
        "    Flux.flatten,\n",
        "    Dense(prod((28,28)), 32, relu),\n",
        "    Dense(32, 10)\n",
        ")"
      ],
      "id": "103489d0",
      "execution_count": null,
      "outputs": []
    },
    {
      "cell_type": "markdown",
      "metadata": {},
      "source": [
        "where `(28,28)` is just the input dimension (28x28 pixel images). Since we have ten digits, our output dimension is ten.^[For a full tutorial on how to build an MNIST image classifier relying solely on `Flux.jl`, check out this [tutorial](https://fluxml.ai/Flux.jl/stable/tutorials/2021-01-26-mlp/).]\n",
        "\n",
        "We can do the exact same thing in `MLJFlux.jl` as follows,\n"
      ],
      "id": "1567b794"
    },
    {
      "cell_type": "code",
      "metadata": {},
      "source": [
        "using MLJFlux\n",
        "\n",
        "builder = MLJFlux.@builder Chain(\n",
        "    Flux.flatten,\n",
        "    Dense(prod(n_in), 32, relu),\n",
        "    Dense(32, n_out)\n",
        ")"
      ],
      "id": "b6ede73e",
      "execution_count": null,
      "outputs": []
    },
    {
      "cell_type": "markdown",
      "metadata": {},
      "source": [
        "where here we rely on the `@builder` macro to make the transition from `Flux.jl` to `MLJ.jl` as seamless as possible. Finally, `MLJFlux.jl` already comes with a number of helper functions to define plain-vanilla networks. In this case, we will use the `ImageClassifier` with our custom builder and cross-entropy loss:\n"
      ],
      "id": "924e9964"
    },
    {
      "cell_type": "code",
      "metadata": {},
      "source": [
        "ImageClassifier = @load ImageClassifier\n",
        "clf = ImageClassifier(\n",
        "    builder=builder,\n",
        "    epochs=10,\n",
        "    loss=Flux.crossentropy\n",
        ")"
      ],
      "id": "19ec888f",
      "execution_count": null,
      "outputs": []
    },
    {
      "cell_type": "markdown",
      "metadata": {},
      "source": [
        "The generated instance `clf` is a model (in the `MLJ.jl` sense) so from this point on we can rely on standard `MLJ.jl` workflows. For example, we can wrap our model in data to create a machine and then evaluate it on a holdout set as follows:\n"
      ],
      "id": "dcff8cd1"
    },
    {
      "cell_type": "code",
      "metadata": {},
      "source": [
        "mach = machine(clf, X, y)\n",
        "\n",
        "evaluate!(\n",
        "    mach,\n",
        "    resampling=Holdout(rng=123, fraction_train=0.8),\n",
        "    operation=predict_mode,\n",
        "    measure=[accuracy]\n",
        ")"
      ],
      "id": "bbd393f7",
      "execution_count": null,
      "outputs": []
    },
    {
      "cell_type": "markdown",
      "metadata": {},
      "source": [
        "The accuracy of our very simple model is not amazing, but good enough for the purpose of this tutorial. For each image, our MLP returns a softmax output for each possible digit: 0,1,2,3,...,9. Since each individual softmax output is valued between zero and one, $y_k\\in(0,1)$, this is commonly interpreted as a probability: $y_k \\coloneqq p(y=k|X)$. Edge cases -- that is values close to either zero or one -- indicate high predictive certainty. But this is only a heuristic notion of predictive uncertainty [@angelopoulos2021gentle]. Next, we will turn this heuristic notion of uncertainty into a rigorous one using Conformal Prediction.\n",
        "\n",
        "## 🔥 Conformalizing the Network\n",
        "\n",
        "Since `clf` is a model, it is also compatible with our package: `ConformalPrediction.jl`. To conformalize our MLP, we therefore only need to call `conformal_model(clf)`. Since the generated instance `conf_model` is also just a model, we can still rely on standard `MLJ.jl` workflows. Below we first wrap it in data and then fit it. Aaaand ... we're done! Let's look at the results in the next section.\n"
      ],
      "id": "a15c4186"
    },
    {
      "cell_type": "code",
      "metadata": {},
      "source": [
        "using ConformalPrediction\n",
        "conf_model = conformal_model(clf; method=:simple_inductive, coverage=.95)\n",
        "mach = machine(conf_model, X, y)\n",
        "fit!(mach)"
      ],
      "id": "b8598f22",
      "execution_count": null,
      "outputs": []
    },
    {
      "cell_type": "markdown",
      "metadata": {},
      "source": [
        "## 📊 Results\n"
      ],
      "id": "03b26b0f"
    },
    {
      "cell_type": "code",
      "metadata": {},
      "source": [
        "#| echo: false\n",
        "\n",
        "using Plots\n",
        "using Plots.PlotMeasures\n",
        "using StatsBase: sample\n",
        "\n",
        "cw = [1, 253, 253] |> (x -> x./sum(x))\n",
        "function plot_results(mach, X, y; set_size=1, n_samples=3, c_weights=cw, c_inv=0, kwargs...)\n",
        "\n",
        "    # Choose images:\n",
        "    set_sizes = ConformalPrediction.set_size.(predict(mach, X))\n",
        "    candidates = findall(set_sizes .== set_size)\n",
        "    @assert length(candidates) > 0 \"No sets of size $set_size.\"\n",
        "    chosen = sample(candidates, n_samples, replace=false)\n",
        "\n",
        "    plt_lst = []\n",
        "    for i in chosen\n",
        "        ytrue = y[i]\n",
        "        x = X[i]\n",
        "        ŷ = predict(mach, x)[1]\n",
        "        title = join([\"$(Int(key)-1) ($(Int(round(val*100)))%)\" for (key, val) in ŷ.prob_given_ref], \", \")\n",
        "        title = \"C={$title}\\nytrue=$ytrue\"\n",
        "        # Colouring:\n",
        "        x = abs.(c_inv .- (c_weights .* channelview(RGB.(x))))\n",
        "        prominent_col = median(x, dims=(2,3))\n",
        "        x = colorview(RGB, eachslice(x, dims=1)...)\n",
        "        bg_color = RGB(prominent_col...)            # most common image colour\n",
        "        plt = plot(x; axis=([],false), bottom_margin=10mm, bg_color=bg_color, bg_color_inside=bg_color, kwargs...)\n",
        "        ann_colour = RGB((1 .- prominent_col)...)   # opposite of background\n",
        "        annotate!(plt, (14, 31, (title, 14-set_size), ann_colour))\n",
        "        push!(plt_lst, plt)\n",
        "    end\n",
        "\n",
        "    plot(plt_lst..., size=(n_samples*300, 300), layout=(1,n_samples))\n",
        "end"
      ],
      "id": "e68b041b",
      "execution_count": null,
      "outputs": []
    },
    {
      "cell_type": "markdown",
      "metadata": {},
      "source": [
        "@fig-plots below presents the results. @fig-plots-1 displays highly certain predictions, now defined in the rigorous sense of Conformal Prediction: in each case, the conformal set (just beneath the image) includes only one label. \n",
        "\n",
        "@fig-plots-2 and @fig-plots-3 display increasingly uncertain predictions of set size two and three, respectively. They demonstrate that CP is well equipped to deal with samples characterized by high aleatoric uncertainty: digits four (4), seven (7) and nine (9) share certain similarities. So do digits five (5) and six (6) as well as three (3) and eight (8). These may be hard to distinguish from each other even after seeing many examples (and even for a human). It is therefore unsurprising to see that these digits often end up together in conformal sets. \n"
      ],
      "id": "9eb8b0c3"
    },
    {
      "cell_type": "code",
      "metadata": {},
      "source": [
        "#| output: true\n",
        "#| label: fig-plots\n",
        "#| fig-cap: Conformalized predictions from an image classifier.\n",
        "#| fig-subcap:\n",
        "#|   - Randomly selected prediction sets of size $|C|=1$.\n",
        "#|   - Randomly selected prediction sets of size $|C|=2$.\n",
        "#|   - Randomly selected prediction sets of size $|C|=3$.\n",
        "#| layout-nrow: 3\n",
        "#| echo: false\n",
        "\n",
        "display(plot_results(mach, X, y; set_size=1))\n",
        "display(plot_results(mach, X, y; set_size=2))\n",
        "display(plot_results(mach, X, y; set_size=3))"
      ],
      "id": "fig-plots",
      "execution_count": null,
      "outputs": []
    },
    {
      "cell_type": "code",
      "metadata": {},
      "source": [
        "#| echo: false\n",
        "#| output: false\n",
        "\n",
        "n_total = 10\n",
        "\n",
        "anim = @animate for i in repeat([1,2,3],n_total)\n",
        "    plot_results(mach, X, y; set_size=i, n_samples=1, c_weights=rand(3), c_inv=rand([0,1],3))\n",
        "end\n",
        "gif(anim, joinpath(www_path, \"intro.gif\"), fps=1)\n",
        "\n",
        "anim = @animate for i in repeat([1,2,3],n_total)\n",
        "    plot_results(mach, X, y; set_size=i, n_samples=3, c_weights=rand(3), c_inv=rand([0,1],3))\n",
        "end\n",
        "gif(anim, joinpath(www_path, \"medium.gif\"), fps=1)"
      ],
      "id": "31f4d0c0",
      "execution_count": null,
      "outputs": []
    },
    {
      "cell_type": "markdown",
      "metadata": {},
      "source": [
        "## 🧐 Evaluation\n",
        "\n",
        "To evaluate the performance of conformal models, specific performance measures can be used to assess if the model is correctly specified and well-calibrated [@angelopoulos2021gentle]. We will look at this in some more detail in another post in the future. For now, just be aware that these measures are already available in `ConformalPrediction.jl` and we will briefly showcase them here.\n",
        "\n",
        "As for many other things, `ConformalPrediction.jl` taps into the existing functionality of `MLJ.jl` for model evaluation. In particular, we will see below how we can use the generic `evaluate!` method on our machine. To assess the correctness of our conformal predictor, we can compute the empirical coverage rate using the custom performance measure `emp_coverage`. With respect to model calibration we will look at the model's conditional coverage. For adaptive, well-calibrated conformal models, conditional coverage is high. One general go-to measure for assessing conditional coverage is size-stratified coverage. The custom measure for this purpose is just called `size_stratified_coverage`, aliased by `ssc`. \n",
        "\n",
        "The code below implements the model evaluation using cross-validation. The Simple Inductive Classifier that we used above is not adaptive and hence the attained conditional coverage is low compared to the overall empirical coverage, which is close to $0.95$, so in line with the desired coverage rate specified above.\n"
      ],
      "id": "841116df"
    },
    {
      "cell_type": "code",
      "metadata": {},
      "source": [
        "#| output: true\n",
        "\n",
        "_eval = evaluate!(\n",
        "    mach,\n",
        "    resampling=CV(),\n",
        "    operation=predict,\n",
        "    measure=[emp_coverage, ssc]\n",
        ")\n",
        "display(_eval)\n",
        "println(\"Empirical coverage: $(round(_eval.measurement[1], digits=3))\")\n",
        "println(\"SSC: $(round(_eval.measurement[2], digits=3))\")"
      ],
      "id": "a36bf0f0",
      "execution_count": null,
      "outputs": []
    },
    {
      "cell_type": "code",
      "metadata": {},
      "source": [
        "#| echo: false\n",
        "\n",
        "results = Dict{Symbol,Any}(:simple_inductive => mach) # store results"
      ],
      "id": "375405bd",
      "execution_count": null,
      "outputs": []
    },
    {
      "cell_type": "markdown",
      "metadata": {},
      "source": [
        "We can attain higher adaptivity (SSC) when using adaptive prediction sets:\n"
      ],
      "id": "6de177e4"
    },
    {
      "cell_type": "code",
      "metadata": {},
      "source": [
        "#| output: true\n",
        "\n",
        "conf_model = conformal_model(clf; method=:adaptive_inductive, coverage=.95)\n",
        "mach = machine(conf_model, X, y)\n",
        "fit!(mach)\n",
        "_eval = evaluate!(\n",
        "    mach,\n",
        "    resampling=CV(),\n",
        "    operation=predict,\n",
        "    measure=[emp_coverage, ssc]\n",
        ")\n",
        "results[:adaptive_inductive] = mach\n",
        "display(_eval)\n",
        "println(\"Empirical coverage: $(round(_eval.measurement[1], digits=3))\")\n",
        "println(\"SSC: $(round(_eval.measurement[2], digits=3))\")"
      ],
      "id": "6d8f4def",
      "execution_count": null,
      "outputs": []
    },
    {
      "cell_type": "markdown",
      "metadata": {},
      "source": [
        "We can also have a look at the resulting set size for both approaches using a custom `Plots.jl` recipe (fig-setsize). In line with the above, the spread is wider for the adaptive approach, which reflects that \"the procedure is effectively distinguishing between easy and hard inputs\" [@angelopoulos2021gentle].\n"
      ],
      "id": "d4eca31b"
    },
    {
      "cell_type": "code",
      "metadata": {},
      "source": [
        "#| output: true\n",
        "#| label: fig-setsize\n",
        "#| fig-cap: Distribution of set sizes for both approaches.\n",
        "\n",
        "plt_list = []\n",
        "for (_mod, mach) in results\n",
        "    push!(plt_list, bar(mach.model, mach.fitresult, X; title=String(_mod)))\n",
        "end\n",
        "plot(plt_list..., size=(800,300))\n",
        "plot(plt_list..., size=(800,300),bg_colour=:transparent)"
      ],
      "id": "fig-setsize",
      "execution_count": null,
      "outputs": []
    },
    {
      "cell_type": "markdown",
      "metadata": {},
      "source": [
        "## 🔁 Recap\n",
        "\n",
        "In this short guide we have seen how easy it is to conformalize a deep learning image classifier in Julia using `ConformalPrediction.jl`. Almost any deep neural network trained in `Flux.jl` is compatible with `MLJ.jl` and can therefore be conformalized in just a few lines of code. This makes it remarkably easy to move uncertainty heuristics to rigorous predictive uncertainty estimates. We have also seen a sneak peek at performance evaluation of conformal predictors. Stay tuned for more!\n",
        "\n",
        "## 🎓 References"
      ],
      "id": "b5bbaba8"
    }
  ],
  "metadata": {
    "kernelspec": {
      "name": "julia-1.8",
      "language": "julia",
      "display_name": "Julia 1.8.1"
    }
  },
  "nbformat": 4,
  "nbformat_minor": 5
}