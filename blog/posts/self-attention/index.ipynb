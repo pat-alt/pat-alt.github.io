{
  "cells": [
    {
      "cell_type": "raw",
      "metadata": {},
      "source": [
        "---\n",
        "title: Self-Attention from Scratch in Julia\n",
        "subtitle: Getting started with metaprogramming in Julia\n",
        "date: '2023-06-13'\n",
        "categories:\n",
        "  - metaprogramming\n",
        "  - macros\n",
        "  - Julia\n",
        "description: 'In this slightly different post, I talk about my first experience with metaprogramming in Julia.'\n",
        "image: www/intro.png\n",
        "draft: true\n",
        "---"
      ],
      "id": "3128ee2b"
    },
    {
      "cell_type": "code",
      "metadata": {},
      "source": [
        "#| echo: false\n",
        "\n",
        "using Pkg; Pkg.activate(\"blog/posts/self-attention\")"
      ],
      "id": "17fce7a9",
      "execution_count": null,
      "outputs": []
    },
    {
      "cell_type": "markdown",
      "metadata": {},
      "source": [
        "<div class=\"intro-gif\">\n",
        "  <figure>\n",
        "    <img src=\"www/intro.png\">\n",
        "    <figcaption>A leap of faith into Julia's metaverse.</figcaption>\n",
        "  </figure>\n",
        "</div>\n",
        "\n",
        "On this blog, I typically talk about things that I have *some* understanding of. In this post, I want to try something a little different and instead cover a topic that I am utterly *clueless* about. There's an interesting aspect about Julia, which I know embarrassingly little about at this point: [Metaprogramming](https://docs.julialang.org/en/v1.8/manual/metaprogramming/). \n",
        "\n",
        "Having worked with Julia for about 1.5 years now, I have so far employed a successful strategy of occasionally taking a glimpse at that part of the Julia documentation and then deciding to go back to pretending it never existed. Meanwhile, [Karandeep Singh](https://twitter.com/kdpsinghlab) has stepped on the Julia scence around 5 minutes ago and already developed a package that literally oozes macro: [Tidier.jl](https://kdpsingh.github.io/Tidier.jl/dev/). The package API is such a joy to work with that I have felt inspired to finally take a serious look at what metaprogramming is all about. \n",
        "\n",
        "My goal for this post is to get to the point where I can confidently write my first macro for [`CounterfactualExplanations.jl`](https://github.com/JuliaTrustworthyAI/CounterfactualExplanations.jl) - more on this below! If you are as clueless and curious about the topic as I am, then follow along on a journey into the metaverse. Buckle in though, it's going to be a bumpy ride! You have been warned. \n"
      ],
      "id": "2acb785a"
    },
    {
      "cell_type": "code",
      "metadata": {},
      "source": [
        "sentence = \"Life is short, eat dessert first\"\n",
        "dc = Dict(key => value for (value, key) in enumerate(sort(split(sentence))))"
      ],
      "id": "4f699615",
      "execution_count": null,
      "outputs": []
    },
    {
      "cell_type": "code",
      "metadata": {},
      "source": [
        "sentence_int = [dc[word] for word in split(sentence)]"
      ],
      "id": "f07f1930",
      "execution_count": null,
      "outputs": []
    },
    {
      "cell_type": "code",
      "metadata": {},
      "source": [
        "using Flux\n",
        "embed = Flux.Embedding(6 => 16)\n",
        "embedded_sentence = embed(sentence_int)"
      ],
      "id": "a286c056",
      "execution_count": null,
      "outputs": []
    },
    {
      "cell_type": "code",
      "metadata": {},
      "source": [
        "d = size(embedded_sentence,1)\n",
        "d_q, d_k, d_v = 24, 24, 28\n",
        "\n",
        "W_query = rand(d_q, d)\n",
        "W_key = rand(d_k, d)\n",
        "W_value = rand(d_v, d)"
      ],
      "id": "2503ce19",
      "execution_count": null,
      "outputs": []
    },
    {
      "cell_type": "code",
      "metadata": {},
      "source": [
        "x_2 = embedded_sentence[:,2]\n",
        "query_2 = W_query * x_2\n",
        "key_2 = W_key * x_2\n",
        "value_2 = W_value * x_2\n",
        "\n",
        "println(\"query_2: \", size(query_2))\n",
        "println(\"key_2: \", size(key_2))\n",
        "println(\"value_2: \", size(value_2))"
      ],
      "id": "5d6063db",
      "execution_count": null,
      "outputs": []
    },
    {
      "cell_type": "code",
      "metadata": {},
      "source": [
        "keys = (W_key * embedded_sentence)'\n",
        "values = (W_value * embedded_sentence)'"
      ],
      "id": "a349a61c",
      "execution_count": null,
      "outputs": []
    },
    {
      "cell_type": "code",
      "metadata": {},
      "source": [
        "ω_24 = query_2'keys[4,:]"
      ],
      "id": "98ef9699",
      "execution_count": null,
      "outputs": []
    },
    {
      "cell_type": "code",
      "metadata": {},
      "source": [
        "ω_2 = query_2'keys'"
      ],
      "id": "bea58774",
      "execution_count": null,
      "outputs": []
    },
    {
      "cell_type": "code",
      "metadata": {},
      "source": [
        "attention_weights_2 = softmax(ω_2 / d_k^0.5, dims=2)\n",
        "print(attention_weights_2)"
      ],
      "id": "9fbc6573",
      "execution_count": null,
      "outputs": []
    },
    {
      "cell_type": "code",
      "metadata": {},
      "source": [
        "attention_weights_2 * values"
      ],
      "id": "c3912924",
      "execution_count": null,
      "outputs": []
    },
    {
      "cell_type": "markdown",
      "metadata": {},
      "source": [
        "## Multi-Head Attention\n"
      ],
      "id": "7f25c2c3"
    },
    {
      "cell_type": "code",
      "metadata": {},
      "source": [
        "h = 3\n",
        "multihead_W_query = rand(d_q, d, h)\n",
        "multihead_W_key = rand(d_k, d, h)\n",
        "multihead_W_value = rand(d_v, d, h)"
      ],
      "id": "b1ed0781",
      "execution_count": null,
      "outputs": []
    },
    {
      "cell_type": "code",
      "metadata": {},
      "source": [
        "multihead_query_2 = multihead_W_query ⊠ x_2[:,:] |> x -> reshape(x, 1, d_q, h)\n",
        "multihead_key_2 = multihead_W_key ⊠ x_2[:,:] |> x -> reshape(x, 1, d_k, h)\n",
        "multihead_value_2 = multihead_W_value ⊠ x_2[:,:] |> x -> reshape(x, 1, d_v, h)"
      ],
      "id": "967d2b2c",
      "execution_count": null,
      "outputs": []
    },
    {
      "cell_type": "code",
      "metadata": {},
      "source": [
        "stacked_inputs = repeat(embedded_sentence, outer=(1,1,3))"
      ],
      "id": "212ccbbb",
      "execution_count": null,
      "outputs": []
    },
    {
      "cell_type": "code",
      "metadata": {},
      "source": [
        "multihead_keys = multihead_W_query ⊠ stacked_inputs\n",
        "multihead_values = multihead_W_value ⊠ stacked_inputs\n",
        "\n",
        "println(\"multihead_keys: \", size(multihead_keys))\n",
        "println(\"multihead_values: \", size(multihead_values))"
      ],
      "id": "290a9b82",
      "execution_count": null,
      "outputs": []
    },
    {
      "cell_type": "code",
      "metadata": {},
      "source": [
        "multi_ω_2 = multihead_query_2 ⊠ keys'"
      ],
      "id": "e74229c1",
      "execution_count": null,
      "outputs": []
    },
    {
      "cell_type": "code",
      "metadata": {},
      "source": [
        "multi_attention_weights_2 = softmax(multi_ω_2 / d_k^0.5, dims=2)\n",
        "@show multi_attention_weights_2"
      ],
      "id": "8702442c",
      "execution_count": null,
      "outputs": []
    },
    {
      "cell_type": "code",
      "metadata": {},
      "source": [
        "multi_attention_weights_2 ⊠ values"
      ],
      "id": "2234fb6e",
      "execution_count": null,
      "outputs": []
    },
    {
      "cell_type": "markdown",
      "metadata": {},
      "source": [
        "## 🤔 All right, where to start?\n",
        "\n",
        "## 🌯 Wrapping Up\n",
        "\n",
        "## 🎓 References"
      ],
      "id": "b453e92e"
    }
  ],
  "metadata": {
    "kernelspec": {
      "name": "julia-1.9",
      "language": "julia",
      "display_name": "Julia 1.9.0"
    }
  },
  "nbformat": 4,
  "nbformat_minor": 5
}