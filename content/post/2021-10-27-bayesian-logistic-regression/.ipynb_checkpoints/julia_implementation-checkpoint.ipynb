{
 "cells": [
  {
   "cell_type": "code",
   "execution_count": null,
   "metadata": {},
   "outputs": [],
   "source": [
    "include(\"julia/bayes_logreg.jl\");\n",
    "include(\"julia/optimization.jl\");\n",
    "using CSV;\n",
    "using DataFrames;\n",
    "df = CSV.read(\"data/cats_dogs.csv\", DataFrame);\n",
    "rename!(df, [:V1, :V2] .=> [:x_1, :x_2]);"
   ]
  },
  {
   "cell_type": "code",
   "execution_count": null,
   "metadata": {},
   "outputs": [],
   "source": [
    "using RCall\n",
    "@rlibrary ggplot2\n",
    "p = ggplot() +\n",
    "  geom_point(data=df, aes(x=:x_1, y=:x_2, color=R\"factor($df$y)\")) +\n",
    "  scale_color_discrete(name=\"Labels:\") +\n",
    "  theme_bw()"
   ]
  },
  {
   "cell_type": "code",
   "execution_count": null,
   "metadata": {},
   "outputs": [],
   "source": [
    "y = df[:,:y];\n",
    "N = length(y);\n",
    "X = Matrix(df[:,Not(:y)]);\n",
    "X = [ones(N) X]; # add for constant\n",
    "d = size(X)[2]; # number of features\n",
    "σ = 10; # prior uncertainty\n",
    "w_0 = zeros(d);\n",
    "H_0 = UniformScaling(1/(σ^2));"
   ]
  },
  {
   "cell_type": "code",
   "execution_count": null,
   "metadata": {},
   "outputs": [],
   "source": [
    "model = bayes_logreg(X,y,w_0,H_0,nll,∇,∇∇);\n",
    "w_map = model.μ;"
   ]
  },
  {
   "cell_type": "code",
   "execution_count": null,
   "metadata": {},
   "outputs": [],
   "source": [
    "step = 1;\n",
    "W = expandgrid((minimum(df.x_1)-50):step:(maximum(df.x_1)+50),(minimum(df.x_2)-50):step:(maximum(df.x_2)+50));\n",
    "N_grid = size(W)[1];"
   ]
  },
  {
   "cell_type": "code",
   "execution_count": null,
   "metadata": {},
   "outputs": [],
   "source": [
    "y_probit = posterior_predictive(model, hcat(ones(N_grid), W));\n",
    "df_grid = DataFrame(hcat(y_probit,W), :auto);\n",
    "p + stat_contour(data=df_grid, aes(x = :x2, y = :x3, z = :x1), bins=30)"
   ]
  }
 ],
 "metadata": {
  "kernelspec": {
   "display_name": "Julia 1.6.3",
   "language": "julia",
   "name": "julia-1.6"
  },
  "language_info": {
   "file_extension": ".jl",
   "mimetype": "application/julia",
   "name": "julia",
   "version": "1.6.3"
  }
 },
 "nbformat": 4,
 "nbformat_minor": 4
}
