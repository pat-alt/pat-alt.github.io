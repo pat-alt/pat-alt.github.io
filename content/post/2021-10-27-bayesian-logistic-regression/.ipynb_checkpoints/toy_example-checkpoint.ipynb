{
 "cells": [
  {
   "cell_type": "markdown",
   "metadata": {},
   "source": [
    "# Toy example"
   ]
  },
  {
   "cell_type": "markdown",
   "metadata": {},
   "source": [
    "## Setup\n",
    "\n",
    "Let's first set up our environment. We're working in a Jupyter notebook with a Julia kernel. "
   ]
  },
  {
   "cell_type": "code",
   "execution_count": null,
   "metadata": {},
   "outputs": [],
   "source": [
    "using LinearAlgebra"
   ]
  },
  {
   "cell_type": "markdown",
   "metadata": {},
   "source": [
    "## Generating data\n",
    "\n",
    "To check that everything is working well, we will replicate an example from Murphy (2022). The Python code generating the example has been [open sourced](https://github.com/probml/pyprobml/blob/master/scripts/logreg_laplace_demo.py). The author of the code uses the `bayes_logistic` function to run Bayesian Logistic Regression (BLR) using Laplace approximation (source code available [here](https://bayes-logistic.readthedocs.io/en/latest/_modules/bayes_logistic/bayes_logistic.html#fit_bayes_logistic)). Here we will code up BLR from scratch in Julia programming language. First, let's generate the synthetic dataset used for the example in Murphy (2022)."
   ]
  },
  {
   "cell_type": "code",
   "execution_count": 10,
   "metadata": {},
   "outputs": [],
   "source": []
  },
  {
   "cell_type": "code",
   "execution_count": 23,
   "metadata": {},
   "outputs": [
    {
     "data": {
      "text/plain": [
       "<PyCall.jlwrap sgd>"
      ]
     },
     "execution_count": 23,
     "metadata": {},
     "output_type": "execute_result"
    }
   ],
   "source": [
    "%%julia\n",
    "# Just importing the data:\n",
    "y = $t\n",
    "X = $X\n",
    "include(\"julia/bayes_logreg.jl\")\n"
   ]
  },
  {
   "cell_type": "code",
   "execution_count": null,
   "metadata": {},
   "outputs": [],
   "source": []
  }
 ],
 "metadata": {
  "kernelspec": {
   "display_name": "Python 3",
   "language": "python",
   "name": "python3"
  },
  "language_info": {
   "codemirror_mode": {
    "name": "ipython",
    "version": 3
   },
   "file_extension": ".py",
   "mimetype": "text/x-python",
   "name": "python",
   "nbconvert_exporter": "python",
   "pygments_lexer": "ipython3",
   "version": "3.8.0"
  }
 },
 "nbformat": 4,
 "nbformat_minor": 4
}
