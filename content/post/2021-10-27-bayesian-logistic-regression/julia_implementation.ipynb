{
 "cells": [
  {
   "cell_type": "markdown",
   "metadata": {},
   "source": [
    "# Bayesian Logistic Regression"
   ]
  },
  {
   "cell_type": "code",
   "execution_count": 411,
   "metadata": {},
   "outputs": [],
   "source": [
    "include(\"julia/bayes_logreg.jl\");\n",
    "include(\"julia/optimization.jl\");\n",
    "using CSV;\n",
    "using DataFrames;\n",
    "df = CSV.read(\"data/cats_dogs.csv\", DataFrame);\n",
    "rename!(df, [:V1, :V2] .=> [:x_1, :x_2]);"
   ]
  },
  {
   "cell_type": "markdown",
   "metadata": {},
   "source": [
    "For plotting we will use the R package `ggplot2` which can be readily integrated into Julia (just like many other R packages, see for example [here](https://avt.im/blog/2018/03/23/R-packages-ggplot-in-julia#fn:rcall))"
   ]
  },
  {
   "cell_type": "code",
   "execution_count": 412,
   "metadata": {},
   "outputs": [],
   "source": [
    "using RCall\n",
    "@rlibrary ggplot2\n",
    "@rlibrary emojifont\n",
    "p = ggplot() +\n",
    "  theme_bw();"
   ]
  },
  {
   "cell_type": "code",
   "execution_count": 413,
   "metadata": {},
   "outputs": [],
   "source": [
    "y = df[:,:y];\n",
    "N = length(y);\n",
    "X = Matrix(df[:,Not(:y)]);\n",
    "X = [ones(N) X]; # add for constant\n",
    "d = size(X)[2]; # number of features\n",
    "w_0 = zeros(d);"
   ]
  },
  {
   "cell_type": "code",
   "execution_count": 414,
   "metadata": {},
   "outputs": [],
   "source": [
    "H_0 = UniformScaling(1/1e10);\n",
    "mle = bayes_logreg(X,y,w_0,H_0,𝓁,∇𝓁,∇∇𝓁);"
   ]
  },
  {
   "cell_type": "markdown",
   "metadata": {},
   "source": [
    "## Posterior "
   ]
  },
  {
   "cell_type": "code",
   "execution_count": 415,
   "metadata": {},
   "outputs": [],
   "source": [
    "step = 0.05;\n",
    "range = 2;\n",
    "W = expandgrid(-range:step:range,-range:step:range);\n",
    "N_grid = size(W)[1];\n",
    "σ = [1e-10, 1, 100, 1e10]; # prior uncertainty"
   ]
  },
  {
   "cell_type": "code",
   "execution_count": 416,
   "metadata": {},
   "outputs": [],
   "source": [
    "estimates = DataFrame()\n",
    "for i=1:length(σ)\n",
    "    H_0 = UniformScaling(1/(σ[i]^2));\n",
    "    model = bayes_logreg(X,y,w_0,H_0,𝓁,∇𝓁,∇∇𝓁);\n",
    "    posterior = -1 .* [logpdf(MvNormal(model.μ,model.Σ),vcat(model.μ[1],W[n,:])) for n=1:N_grid]\n",
    "    estimate = DataFrame(hcat(posterior,W), :auto);\n",
    "    insertcols!(estimate, 4, :noise => σ[i])\n",
    "    estimates = vcat(estimates, estimate)\n",
    "end \n",
    "transform!(groupby(estimates, :noise), :x1 => (x -> x ./ maximum(x)) => :x1);"
   ]
  },
  {
   "cell_type": "code",
   "execution_count": 417,
   "metadata": {},
   "outputs": [],
   "source": [
    "points = DataFrame(x=mle.μ[2],y=mle.μ[3]);"
   ]
  },
  {
   "cell_type": "code",
   "execution_count": 418,
   "metadata": {},
   "outputs": [
    {
     "data": {
      "text/plain": [
       "RObject{StrSxp}\n",
       "[1] \"www/posterior.png\"\n"
      ]
     },
     "execution_count": 418,
     "metadata": {},
     "output_type": "execute_result"
    }
   ],
   "source": [
    "p + \n",
    "  geom_contour_filled(data=estimates, aes(x = :x2, y = :x3, z = :x1), bins=25, alpha=0.8) +\n",
    "  geom_point(data=points, aes(x=:x, y=:y), size=3, colour=\"coral\") +\n",
    "  scale_x_continuous(expand = R\"c(0, 0)\") + scale_y_continuous(expand = R\"c(0, 0)\") +\n",
    "  guides(fill=\"none\") +\n",
    "  facet_wrap(R\"~noise\") +\n",
    "  labs(x=\"Height (coefficient)\", y=\"Tail (coefficient)\") |>\n",
    "  p -> ggsave(\"www/posterior.png\", plot = p, width=5, height=5)"
   ]
  },
  {
   "cell_type": "markdown",
   "metadata": {},
   "source": [
    "## Posterior Predictive"
   ]
  },
  {
   "cell_type": "code",
   "execution_count": 419,
   "metadata": {},
   "outputs": [],
   "source": [
    "step = 1;\n",
    "expand = 20;\n",
    "W = expandgrid((minimum(df.x_1)-expand):step:(maximum(df.x_1)+expand),(minimum(df.x_2)-expand):step:(maximum(df.x_2)+expand));\n",
    "N_grid = size(W)[1];\n",
    "σ = [1e-10, 1, 100, 1e10]; # prior uncertainty"
   ]
  },
  {
   "cell_type": "code",
   "execution_count": 420,
   "metadata": {},
   "outputs": [],
   "source": [
    "features = DataFrame()\n",
    "estimates = DataFrame()\n",
    "for i=1:length(σ)\n",
    "    H_0 = UniformScaling(1/(σ[i]^2));\n",
    "    model = bayes_logreg(X,y,w_0,H_0,nll,∇,∇∇);\n",
    "    w_map = model.μ;\n",
    "    y_probit = posterior_predictive(model, hcat(ones(N_grid), W));\n",
    "    estimate = DataFrame(hcat(y_probit,W), :auto);\n",
    "    insertcols!(estimate, 4, :noise => σ[i])\n",
    "    estimates = vcat(estimates, estimate)\n",
    "    feature = copy(df)\n",
    "    insertcols!(feature, :noise => σ[i])\n",
    "    features = vcat(features, feature)\n",
    "    end \n",
    "# Adding emojis \n",
    "transform!(features, :y => (x -> ifelse.(x.==0,\"www/cat.png\",\"www/dog.png\"))  => :emoji);"
   ]
  },
  {
   "cell_type": "code",
   "execution_count": 421,
   "metadata": {},
   "outputs": [
    {
     "data": {
      "text/plain": [
       "RObject{StrSxp}\n",
       "[1] \"www/predictive.png\"\n"
      ]
     },
     "execution_count": 421,
     "metadata": {},
     "output_type": "execute_result"
    }
   ],
   "source": [
    "p + \n",
    "  geom_contour_filled(data=estimates, aes(x = :x2, y = :x3, z = :x1), bins=25, alpha=0.8) +\n",
    "  geom_image(data=features, aes(x=:x_1, y=:x_2, image=:emoji), size=0.1) +\n",
    "  guides(fill=\"none\") +\n",
    "  scale_x_continuous(expand = R\"c(0, 0)\") + scale_y_continuous(expand = R\"c(0, 0)\") +\n",
    "  facet_wrap(R\"~noise\") +\n",
    "  labs(x=\"Height\", y=\"Tail\") |>\n",
    "  p -> ggsave(\"www/predictive.png\", plot = p, width=5, height=5)\n"
   ]
  }
 ],
 "metadata": {
  "kernelspec": {
   "display_name": "Julia 1.6.3",
   "language": "julia",
   "name": "julia-1.6"
  },
  "language_info": {
   "file_extension": ".jl",
   "mimetype": "application/julia",
   "name": "julia",
   "version": "1.6.3"
  }
 },
 "nbformat": 4,
 "nbformat_minor": 4
}
